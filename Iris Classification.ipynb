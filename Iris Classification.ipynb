{
 "cells": [
  {
   "cell_type": "markdown",
   "metadata": {},
   "source": [
    "For this project, I will be using classification methods on the Iris dataset and see which method is the best fit. The following classificaiton methods will be used:\n",
    "- Logistic Regression\n",
    "- Support Vector Machines\n",
    "- K-Nearest Neighbor\n",
    "- Random Forest Classifier\n",
    "- XGB Classifier\n",
    "- Neural Networks using Keras\n",
    "\n",
    "In addition to analyzing these methods, I will also provide a classification report and log the accuracy scores of each methods into a dictionary. For the neural network, I will also add the minumum loss value to it.\n",
    "\n",
    "To start, let's import our packages:"
   ]
  },
  {
   "cell_type": "code",
   "execution_count": 1325,
   "metadata": {},
   "outputs": [],
   "source": [
    "import numpy as np\n",
    "import pandas as pd\n",
    "import matplotlib.pyplot as plt\n",
    "import seaborn as sns\n",
    "\n",
    "from sklearn.preprocessing import StandardScaler\n",
    "from sklearn.model_selection import train_test_split\n",
    "from sklearn.linear_model import LogisticRegression\n",
    "from sklearn.svm import SVC\n",
    "from sklearn.neighbors import KNeighborsClassifier\n",
    "from sklearn.ensemble import RandomForestClassifier\n",
    "from sklearn.metrics import confusion_matrix, classification_report, accuracy_score\n",
    "\n",
    "from xgboost import XGBClassifier\n",
    "\n",
    "from tensorflow import keras\n",
    "from keras import Sequential\n",
    "from keras.layers import BatchNormalization, Dense, Dropout\n",
    "from keras.callbacks import EarlyStopping\n",
    "\n",
    "#Configure plotting options\n",
    "sns.set_style('darkgrid')\n",
    "plt.rc('axes', labelsize=14, labelweight='bold', titlesize=16, titleweight='bold')"
   ]
  },
  {
   "cell_type": "markdown",
   "metadata": {},
   "source": [
    "## Splitting the data\n",
    "\n",
    "Next, we have to set up our features and target data, and then split them into training and testing. I decided to use a 30% testing size because of how small the data is."
   ]
  },
  {
   "cell_type": "code",
   "execution_count": 1326,
   "metadata": {},
   "outputs": [],
   "source": [
    "iris = sns.load_dataset('iris')\n",
    "X = iris.iloc[:,:4]\n",
    "y = iris.species.replace({'setosa': 0, 'versicolor': 1, 'virginica': 2}) #This data needs to be encoded to do any classification\n",
    "\n",
    "X_train, X_test, y_train, y_test = train_test_split(X, y, test_size=.3, random_state=69)\n",
    "\n",
    "classification_scores = {}"
   ]
  },
  {
   "cell_type": "markdown",
   "metadata": {},
   "source": [
    "Our data is split up and the accuracy score dictionary is ready. We can now analyze your findings. I will start with the Tree-Based models which is the Random Forest Classifier and the XGB Classifier, because the other classification models require the data to be scaled.\n",
    "## Random Forest"
   ]
  },
  {
   "cell_type": "code",
   "execution_count": 1327,
   "metadata": {
    "scrolled": true
   },
   "outputs": [
    {
     "name": "stdout",
     "output_type": "stream",
     "text": [
      "Training Accuracy Score: 100.00%\n",
      "Testing Accuracy Score: 97.78%\n"
     ]
    }
   ],
   "source": [
    "rf = RandomForestClassifier().fit(X_train,y_train)\n",
    "\n",
    "X_train_preds = rf.predict(X_train)\n",
    "X_test_preds = rf.predict(X_test)\n",
    "\n",
    "train_acc = accuracy_score(y_train, X_train_preds)\n",
    "test_acc = accuracy_score(y_test, X_test_preds)\n",
    "\n",
    "print('Training Accuracy Score: {:.2f}%'.format(train_acc*100))\n",
    "print('Testing Accuracy Score: {:.2f}%'.format(test_acc*100))\n",
    "classification_scores['Random Forest'] = test_acc.round(2)"
   ]
  },
  {
   "cell_type": "code",
   "execution_count": 1328,
   "metadata": {},
   "outputs": [
    {
     "name": "stdout",
     "output_type": "stream",
     "text": [
      "              precision    recall  f1-score   support\n",
      "\n",
      "           0       1.00      1.00      1.00        16\n",
      "           1       0.92      1.00      0.96        12\n",
      "           2       1.00      0.94      0.97        17\n",
      "\n",
      "    accuracy                           0.98        45\n",
      "   macro avg       0.97      0.98      0.98        45\n",
      "weighted avg       0.98      0.98      0.98        45\n",
      "\n"
     ]
    }
   ],
   "source": [
    "print(classification_report(y_test, X_test_preds))"
   ]
  },
  {
   "cell_type": "markdown",
   "metadata": {},
   "source": [
    "Our training data for Random Forest came out as 100%, while the testing data came out as 97.78%.\n",
    "\n",
    "We can also compute the cofusion matrix to determine how many of the actual/predicted values are real."
   ]
  },
  {
   "cell_type": "code",
   "execution_count": 1329,
   "metadata": {},
   "outputs": [
    {
     "data": {
      "image/png": "[encoded data removed]",
      "text/plain": [
       "<Figure size 432x288 with 2 Axes>"
      ]
     },
     "metadata": {},
     "output_type": "display_data"
    }
   ],
   "source": [
    "test_cm = confusion_matrix(y_test, X_test_preds)\n",
    "sns.heatmap(test_cm, cmap='gray', annot=True, annot_kws={'size': 30})\n",
    "plt.xlabel('Predicted')\n",
    "plt.ylabel('Actual');"
   ]
  },
  {
   "cell_type": "markdown",
   "metadata": {},
   "source": [
    "It turns out that only one value was a false negative.\n",
    "## XGB Classifier"
   ]
  },
  {
   "cell_type": "code",
   "execution_count": 1330,
   "metadata": {
    "scrolled": true
   },
   "outputs": [
    {
     "name": "stdout",
     "output_type": "stream",
     "text": [
      "[19:25:21] WARNING: ..\\src\\learner.cc:1061: Starting in XGBoost 1.3.0, the default evaluation metric used with the objective 'multi:softprob' was changed from 'merror' to 'mlogloss'. Explicitly set eval_metric if you'd like to restore the old behavior.\n",
      "Training Accuracy Score: 100.00%\n",
      "Testing Accuracy Score: 97.78%\n"
     ]
    },
    {
     "name": "stderr",
     "output_type": "stream",
     "text": [
      "C:\\Users\\Kwasie Agbemadon\\anaconda3\\lib\\site-packages\\xgboost\\sklearn.py:888: UserWarning: The use of label encoder in XGBClassifier is deprecated and will be removed in a future release. To remove this warning, do the following: 1) Pass option use_label_encoder=False when constructing XGBClassifier object; and 2) Encode your labels (y) as integers starting with 0, i.e. 0, 1, 2, ..., [num_class - 1].\n",
      "  warnings.warn(label_encoder_deprecation_msg, UserWarning)\n"
     ]
    }
   ],
   "source": [
    "clf = XGBClassifier().fit(X_train,y_train)\n",
    "\n",
    "X_train_preds = clf.predict(X_train)\n",
    "X_test_preds = clf.predict(X_test)\n",
    "\n",
    "train_acc = accuracy_score(y_train, X_train_preds)\n",
    "test_acc = accuracy_score(y_test, X_test_preds)\n",
    "\n",
    "print('Training Accuracy Score: {:.2f}%'.format(train_acc*100))\n",
    "print('Testing Accuracy Score: {:.2f}%'.format(test_acc*100))\n",
    "classification_scores['XGB'] = test_acc.round(2)"
   ]
  },
  {
   "cell_type": "markdown",
   "metadata": {},
   "source": [
    "Our training and testing scores are the same as the Random Forest Classifier."
   ]
  },
  {
   "cell_type": "code",
   "execution_count": 1331,
   "metadata": {},
   "outputs": [
    {
     "name": "stdout",
     "output_type": "stream",
     "text": [
      "              precision    recall  f1-score   support\n",
      "\n",
      "           0       1.00      1.00      1.00        16\n",
      "           1       0.92      1.00      0.96        12\n",
      "           2       1.00      0.94      0.97        17\n",
      "\n",
      "    accuracy                           0.98        45\n",
      "   macro avg       0.97      0.98      0.98        45\n",
      "weighted avg       0.98      0.98      0.98        45\n",
      "\n"
     ]
    }
   ],
   "source": [
    "print(classification_report(y_test, X_test_preds))"
   ]
  },
  {
   "cell_type": "markdown",
   "metadata": {},
   "source": [
    "Now that we classified the data using tree-based models, we can now scale the data for the other models."
   ]
  },
  {
   "cell_type": "code",
   "execution_count": 1332,
   "metadata": {},
   "outputs": [],
   "source": [
    "sc = StandardScaler()\n",
    "X_train = sc.fit_transform(X_train)\n",
    "X_test = sc.fit_transform(X_test)"
   ]
  },
  {
   "cell_type": "markdown",
   "metadata": {},
   "source": [
    "## Logistic Regression"
   ]
  },
  {
   "cell_type": "code",
   "execution_count": 1333,
   "metadata": {},
   "outputs": [],
   "source": [
    "clf = LogisticRegression().fit(X_train,y_train)\n",
    "X_train_preds = clf.predict(X_train)\n",
    "X_test_preds = clf.predict(X_test)"
   ]
  },
  {
   "cell_type": "code",
   "execution_count": 1334,
   "metadata": {},
   "outputs": [
    {
     "name": "stdout",
     "output_type": "stream",
     "text": [
      "Training Accuracy Score: 95.24%\n",
      "Testing Accuracy Score: 93.33%\n"
     ]
    }
   ],
   "source": [
    "train_acc = accuracy_score(y_train, X_train_preds)\n",
    "test_acc = accuracy_score(y_test, X_test_preds)\n",
    "print('Training Accuracy Score: {:.2f}%'.format(train_acc*100))\n",
    "print('Testing Accuracy Score: {:.2f}%'.format(test_acc*100))\n",
    "classification_scores['Logistic'] = test_acc.round(2)"
   ]
  },
  {
   "cell_type": "code",
   "execution_count": 1335,
   "metadata": {},
   "outputs": [
    {
     "name": "stdout",
     "output_type": "stream",
     "text": [
      "              precision    recall  f1-score   support\n",
      "\n",
      "           0       1.00      1.00      1.00        16\n",
      "           1       0.80      1.00      0.89        12\n",
      "           2       1.00      0.82      0.90        17\n",
      "\n",
      "    accuracy                           0.93        45\n",
      "   macro avg       0.93      0.94      0.93        45\n",
      "weighted avg       0.95      0.93      0.93        45\n",
      "\n"
     ]
    }
   ],
   "source": [
    "print(classification_report(y_test, X_test_preds))"
   ]
  },
  {
   "cell_type": "markdown",
   "metadata": {},
   "source": [
    "Our training score for Logistic Regression is 95.24%, and the testing score is 93.33%. This is the lowest score so far.\n",
    "\n",
    "## SVM"
   ]
  },
  {
   "cell_type": "code",
   "execution_count": 1336,
   "metadata": {},
   "outputs": [
    {
     "name": "stdout",
     "output_type": "stream",
     "text": [
      "Training Accuracy Score: 97.14%\n",
      "Testing Accuracy Score: 95.56%\n"
     ]
    }
   ],
   "source": [
    "svm = SVC().fit(X_train,y_train)\n",
    "X_train_preds = svm.predict(X_train)\n",
    "X_test_preds = svm.predict(X_test)\n",
    "\n",
    "train_acc = accuracy_score(y_train, X_train_preds)\n",
    "test_acc = accuracy_score(y_test, X_test_preds)\n",
    "print('Training Accuracy Score: {:.2f}%'.format(train_acc*100))\n",
    "print('Testing Accuracy Score: {:.2f}%'.format(test_acc*100))\n",
    "\n",
    "classification_scores['SVM'] = test_acc.round(2)"
   ]
  },
  {
   "cell_type": "code",
   "execution_count": 1337,
   "metadata": {
    "scrolled": true
   },
   "outputs": [
    {
     "name": "stdout",
     "output_type": "stream",
     "text": [
      "              precision    recall  f1-score   support\n",
      "\n",
      "           0       1.00      1.00      1.00        16\n",
      "           1       0.86      1.00      0.92        12\n",
      "           2       1.00      0.88      0.94        17\n",
      "\n",
      "    accuracy                           0.96        45\n",
      "   macro avg       0.95      0.96      0.95        45\n",
      "weighted avg       0.96      0.96      0.96        45\n",
      "\n"
     ]
    }
   ],
   "source": [
    "print(classification_report(y_test, X_test_preds))"
   ]
  },
  {
   "cell_type": "markdown",
   "metadata": {},
   "source": [
    "Our training score for SVM is 97.14%, and the testing score is 95.56%.\n",
    "\n",
    "## KNN\n",
    "\n",
    "For this classification method, we can loop through a range of values and plot them to see which gets the best score:"
   ]
  },
  {
   "cell_type": "code",
   "execution_count": 1338,
   "metadata": {},
   "outputs": [
    {
     "name": "stderr",
     "output_type": "stream",
     "text": [
      "C:\\Users\\Kwasie Agbemadon\\anaconda3\\lib\\site-packages\\seaborn\\_decorators.py:36: FutureWarning: Pass the following variables as keyword args: x, y. From version 0.12, the only valid positional argument will be `data`, and passing other arguments without an explicit keyword will result in an error or misinterpretation.\n",
      "  warnings.warn(\n",
      "C:\\Users\\Kwasie Agbemadon\\anaconda3\\lib\\site-packages\\seaborn\\_decorators.py:36: FutureWarning: Pass the following variables as keyword args: x, y. From version 0.12, the only valid positional argument will be `data`, and passing other arguments without an explicit keyword will result in an error or misinterpretation.\n",
      "  warnings.warn(\n"
     ]
    },
    {
     "data": {
      "image/png": "[encoded data removed]",
      "text/plain": [
       "<Figure size 432x288 with 2 Axes>"
      ]
     },
     "metadata": {},
     "output_type": "display_data"
    }
   ],
   "source": [
    "train_scores = {}\n",
    "test_scores = {}\n",
    "\n",
    "for i in range(1,31):\n",
    "    knn = KNeighborsClassifier(n_neighbors=i)\n",
    "    knn.fit(X_train,y_train)\n",
    "    \n",
    "    X_train_preds = knn.predict(X_train)\n",
    "    X_test_preds = knn.predict(X_test)\n",
    "    \n",
    "    #The scores (based on the amount of neighbors) will be logged into the dictionaries\n",
    "    train_scores[i] = accuracy_score(y_train, X_train_preds).round(2)\n",
    "    test_scores[i] = accuracy_score(y_test, X_test_preds).round(2)\n",
    "\n",
    "#Plotting\n",
    "fig, (ax1, ax2) = plt.subplots(2, 1, sharex=True, sharey=True)\n",
    "\n",
    "sns.lineplot(train_scores.keys(), train_scores.values(), ax=ax1)\n",
    "sns.lineplot(test_scores.keys(), test_scores.values(), ax=ax2)\n",
    "\n",
    "ax1.set_ylabel('Training')\n",
    "ax2.set_ylabel('Testing')\n",
    "plt.xlabel('Neighbors');"
   ]
  },
  {
   "cell_type": "code",
   "execution_count": 1339,
   "metadata": {},
   "outputs": [
    {
     "name": "stdout",
     "output_type": "stream",
     "text": [
      "              precision    recall  f1-score   support\n",
      "\n",
      "           0       1.00      1.00      1.00        16\n",
      "           1       0.92      1.00      0.96        12\n",
      "           2       1.00      0.94      0.97        17\n",
      "\n",
      "    accuracy                           0.98        45\n",
      "   macro avg       0.97      0.98      0.98        45\n",
      "weighted avg       0.98      0.98      0.98        45\n",
      "\n"
     ]
    }
   ],
   "source": [
    "best_value = max(test_scores, key=test_scores.get)\n",
    "knn = KNeighborsClassifier(n_neighbors=best_value).fit(X_train,y_train)\n",
    "pred = knn.predict(X_test)\n",
    "print(classification_report(y_test, pred))"
   ]
  },
  {
   "cell_type": "code",
   "execution_count": 1340,
   "metadata": {},
   "outputs": [
    {
     "name": "stdout",
     "output_type": "stream",
     "text": [
      "Accuracy score with 13 neighbors: 98.0%\n"
     ]
    }
   ],
   "source": [
    "print('Accuracy score with {} neighbors: {}%'.format(best_value, max(test_scores.values()) * 100))\n",
    "classification_scores['KNN'] = max(test_scores.values())"
   ]
  },
  {
   "cell_type": "markdown",
   "metadata": {},
   "source": [
    "## Keras"
   ]
  },
  {
   "cell_type": "code",
   "execution_count": 1341,
   "metadata": {},
   "outputs": [
    {
     "name": "stdout",
     "output_type": "stream",
     "text": [
      "Epoch 1/200\n",
      "7/7 [==============================] - 1s 23ms/step - loss: 1.1484 - accuracy: 0.4952 - val_loss: 0.9262 - val_accuracy: 0.7556\n",
      "Epoch 2/200\n",
      "7/7 [==============================] - 0s 7ms/step - loss: 1.2252 - accuracy: 0.4571 - val_loss: 0.9098 - val_accuracy: 0.7778\n",
      "Epoch 3/200\n",
      "7/7 [==============================] - 0s 8ms/step - loss: 1.1093 - accuracy: 0.5238 - val_loss: 0.8908 - val_accuracy: 0.7778\n",
      "Epoch 4/200\n",
      "7/7 [==============================] - 0s 8ms/step - loss: 1.1308 - accuracy: 0.4000 - val_loss: 0.8775 - val_accuracy: 0.8000\n",
      "Epoch 5/200\n",
      "7/7 [==============================] - 0s 9ms/step - loss: 1.0896 - accuracy: 0.5143 - val_loss: 0.8584 - val_accuracy: 0.8000\n",
      "Epoch 6/200\n",
      "7/7 [==============================] - 0s 8ms/step - loss: 0.9770 - accuracy: 0.5238 - val_loss: 0.8431 - val_accuracy: 0.8444\n",
      "Epoch 7/200\n",
      "7/7 [==============================] - 0s 7ms/step - loss: 0.9513 - accuracy: 0.5048 - val_loss: 0.8180 - val_accuracy: 0.8667\n",
      "Epoch 8/200\n",
      "7/7 [==============================] - 0s 7ms/step - loss: 1.0412 - accuracy: 0.4952 - val_loss: 0.7874 - val_accuracy: 0.8889\n",
      "Epoch 9/200\n",
      "7/7 [==============================] - 0s 7ms/step - loss: 0.8947 - accuracy: 0.5143 - val_loss: 0.7683 - val_accuracy: 0.8889\n",
      "Epoch 10/200\n",
      "7/7 [==============================] - 0s 8ms/step - loss: 0.9960 - accuracy: 0.4952 - val_loss: 0.7537 - val_accuracy: 0.9111\n",
      "Epoch 11/200\n",
      "7/7 [==============================] - 0s 8ms/step - loss: 0.9380 - accuracy: 0.5333 - val_loss: 0.7323 - val_accuracy: 0.9333\n",
      "Epoch 12/200\n",
      "7/7 [==============================] - 0s 11ms/step - loss: 0.8098 - accuracy: 0.5810 - val_loss: 0.7086 - val_accuracy: 0.9111\n",
      "Epoch 13/200\n",
      "7/7 [==============================] - 0s 7ms/step - loss: 0.7932 - accuracy: 0.6857 - val_loss: 0.6926 - val_accuracy: 0.9333\n",
      "Epoch 14/200\n",
      "7/7 [==============================] - 0s 6ms/step - loss: 0.8630 - accuracy: 0.6381 - val_loss: 0.6713 - val_accuracy: 0.9333\n",
      "Epoch 15/200\n",
      "7/7 [==============================] - 0s 7ms/step - loss: 0.7037 - accuracy: 0.6952 - val_loss: 0.6590 - val_accuracy: 0.9556\n",
      "Epoch 16/200\n",
      "7/7 [==============================] - 0s 8ms/step - loss: 0.6751 - accuracy: 0.7333 - val_loss: 0.6427 - val_accuracy: 0.9556\n",
      "Epoch 17/200\n",
      "7/7 [==============================] - 0s 7ms/step - loss: 0.8407 - accuracy: 0.6476 - val_loss: 0.6279 - val_accuracy: 0.9556\n",
      "Epoch 18/200\n",
      "7/7 [==============================] - 0s 7ms/step - loss: 0.7113 - accuracy: 0.7333 - val_loss: 0.6061 - val_accuracy: 0.9556\n",
      "Epoch 19/200\n",
      "7/7 [==============================] - 0s 9ms/step - loss: 0.6545 - accuracy: 0.7238 - val_loss: 0.5829 - val_accuracy: 0.9556\n",
      "Epoch 20/200\n",
      "7/7 [==============================] - 0s 10ms/step - loss: 0.7300 - accuracy: 0.6381 - val_loss: 0.5664 - val_accuracy: 0.9556\n",
      "Epoch 21/200\n",
      "7/7 [==============================] - 0s 10ms/step - loss: 0.6909 - accuracy: 0.7238 - val_loss: 0.5497 - val_accuracy: 0.9556\n",
      "Epoch 22/200\n",
      "7/7 [==============================] - 0s 9ms/step - loss: 0.6921 - accuracy: 0.7333 - val_loss: 0.5329 - val_accuracy: 0.9556\n",
      "Epoch 23/200\n",
      "7/7 [==============================] - 0s 7ms/step - loss: 0.6642 - accuracy: 0.7143 - val_loss: 0.5232 - val_accuracy: 0.9556\n",
      "Epoch 24/200\n",
      "7/7 [==============================] - 0s 8ms/step - loss: 0.6266 - accuracy: 0.7048 - val_loss: 0.5077 - val_accuracy: 0.9556\n",
      "Epoch 25/200\n",
      "7/7 [==============================] - 0s 10ms/step - loss: 0.6320 - accuracy: 0.7714 - val_loss: 0.4943 - val_accuracy: 0.9556\n",
      "Epoch 26/200\n",
      "7/7 [==============================] - 0s 8ms/step - loss: 0.6208 - accuracy: 0.7810 - val_loss: 0.4821 - val_accuracy: 0.9556\n",
      "Epoch 27/200\n",
      "7/7 [==============================] - 0s 7ms/step - loss: 0.6014 - accuracy: 0.7333 - val_loss: 0.4732 - val_accuracy: 0.9556\n",
      "Epoch 28/200\n",
      "7/7 [==============================] - 0s 9ms/step - loss: 0.6246 - accuracy: 0.7524 - val_loss: 0.4600 - val_accuracy: 0.9556\n",
      "Epoch 29/200\n",
      "7/7 [==============================] - 0s 7ms/step - loss: 0.5719 - accuracy: 0.8286 - val_loss: 0.4513 - val_accuracy: 0.9556\n",
      "Epoch 30/200\n",
      "7/7 [==============================] - 0s 7ms/step - loss: 0.5635 - accuracy: 0.7905 - val_loss: 0.4356 - val_accuracy: 0.9556\n",
      "Epoch 31/200\n",
      "7/7 [==============================] - 0s 8ms/step - loss: 0.6324 - accuracy: 0.7810 - val_loss: 0.4243 - val_accuracy: 0.9556\n",
      "Epoch 32/200\n",
      "7/7 [==============================] - 0s 7ms/step - loss: 0.5770 - accuracy: 0.7714 - val_loss: 0.4125 - val_accuracy: 0.9556\n",
      "Epoch 33/200\n",
      "7/7 [==============================] - 0s 8ms/step - loss: 0.5125 - accuracy: 0.8095 - val_loss: 0.4009 - val_accuracy: 0.9556\n",
      "Epoch 34/200\n",
      "7/7 [==============================] - 0s 9ms/step - loss: 0.5471 - accuracy: 0.8000 - val_loss: 0.3860 - val_accuracy: 0.9556\n",
      "Epoch 35/200\n",
      "7/7 [==============================] - 0s 10ms/step - loss: 0.5184 - accuracy: 0.8000 - val_loss: 0.3758 - val_accuracy: 0.9556\n",
      "Epoch 36/200\n",
      "7/7 [==============================] - 0s 9ms/step - loss: 0.5797 - accuracy: 0.7714 - val_loss: 0.3650 - val_accuracy: 0.9333\n",
      "Epoch 37/200\n",
      "7/7 [==============================] - 0s 7ms/step - loss: 0.6051 - accuracy: 0.7524 - val_loss: 0.3582 - val_accuracy: 0.9333\n",
      "Epoch 38/200\n",
      "7/7 [==============================] - 0s 7ms/step - loss: 0.5147 - accuracy: 0.8000 - val_loss: 0.3496 - val_accuracy: 0.9333\n",
      "Epoch 39/200\n",
      "7/7 [==============================] - 0s 7ms/step - loss: 0.6442 - accuracy: 0.7524 - val_loss: 0.3450 - val_accuracy: 0.9333\n",
      "Epoch 40/200\n",
      "7/7 [==============================] - 0s 7ms/step - loss: 0.5187 - accuracy: 0.8571 - val_loss: 0.3387 - val_accuracy: 0.9333\n",
      "Epoch 41/200\n",
      "7/7 [==============================] - 0s 7ms/step - loss: 0.5312 - accuracy: 0.7714 - val_loss: 0.3333 - val_accuracy: 0.9333\n",
      "Epoch 42/200\n",
      "7/7 [==============================] - 0s 7ms/step - loss: 0.5280 - accuracy: 0.7714 - val_loss: 0.3268 - val_accuracy: 0.9333\n",
      "Epoch 43/200\n",
      "7/7 [==============================] - 0s 7ms/step - loss: 0.4568 - accuracy: 0.7905 - val_loss: 0.3225 - val_accuracy: 0.9333\n",
      "Epoch 44/200\n",
      "7/7 [==============================] - 0s 7ms/step - loss: 0.5640 - accuracy: 0.7714 - val_loss: 0.3162 - val_accuracy: 0.9333\n",
      "Epoch 45/200\n",
      "7/7 [==============================] - 0s 7ms/step - loss: 0.5798 - accuracy: 0.8095 - val_loss: 0.3070 - val_accuracy: 0.9333\n",
      "Epoch 46/200\n",
      "7/7 [==============================] - 0s 6ms/step - loss: 0.5431 - accuracy: 0.7905 - val_loss: 0.3017 - val_accuracy: 0.9333\n",
      "Epoch 47/200\n",
      "7/7 [==============================] - 0s 7ms/step - loss: 0.5227 - accuracy: 0.8000 - val_loss: 0.2975 - val_accuracy: 0.9333\n",
      "Epoch 48/200\n",
      "7/7 [==============================] - 0s 7ms/step - loss: 0.4908 - accuracy: 0.8667 - val_loss: 0.2900 - val_accuracy: 0.9333\n",
      "Epoch 49/200\n",
      "7/7 [==============================] - 0s 8ms/step - loss: 0.5160 - accuracy: 0.8000 - val_loss: 0.2844 - val_accuracy: 0.9333\n",
      "Epoch 50/200\n",
      "7/7 [==============================] - 0s 8ms/step - loss: 0.5212 - accuracy: 0.8571 - val_loss: 0.2774 - val_accuracy: 0.9333\n",
      "Epoch 51/200\n",
      "7/7 [==============================] - 0s 6ms/step - loss: 0.4482 - accuracy: 0.8762 - val_loss: 0.2732 - val_accuracy: 0.9333\n",
      "Epoch 52/200\n",
      "7/7 [==============================] - 0s 6ms/step - loss: 0.5108 - accuracy: 0.8286 - val_loss: 0.2723 - val_accuracy: 0.9333\n",
      "Epoch 53/200\n",
      "7/7 [==============================] - 0s 7ms/step - loss: 0.4942 - accuracy: 0.8286 - val_loss: 0.2671 - val_accuracy: 0.9333\n",
      "Epoch 54/200\n",
      "7/7 [==============================] - 0s 7ms/step - loss: 0.4672 - accuracy: 0.8190 - val_loss: 0.2657 - val_accuracy: 0.9333\n",
      "Epoch 55/200\n",
      "7/7 [==============================] - 0s 6ms/step - loss: 0.5137 - accuracy: 0.8095 - val_loss: 0.2612 - val_accuracy: 0.9333\n",
      "Epoch 56/200\n",
      "7/7 [==============================] - 0s 6ms/step - loss: 0.5462 - accuracy: 0.7714 - val_loss: 0.2596 - val_accuracy: 0.9333\n",
      "Epoch 57/200\n",
      "7/7 [==============================] - 0s 8ms/step - loss: 0.4952 - accuracy: 0.8095 - val_loss: 0.2488 - val_accuracy: 0.9333\n",
      "Epoch 58/200\n",
      "7/7 [==============================] - 0s 7ms/step - loss: 0.4456 - accuracy: 0.8190 - val_loss: 0.2491 - val_accuracy: 0.9333\n",
      "Epoch 59/200\n"
     ]
    },
    {
     "name": "stdout",
     "output_type": "stream",
     "text": [
      "7/7 [==============================] - 0s 7ms/step - loss: 0.4750 - accuracy: 0.8381 - val_loss: 0.2468 - val_accuracy: 0.9333\n",
      "Epoch 60/200\n",
      "7/7 [==============================] - 0s 7ms/step - loss: 0.4464 - accuracy: 0.8762 - val_loss: 0.2454 - val_accuracy: 0.9333\n",
      "Epoch 61/200\n",
      "7/7 [==============================] - 0s 7ms/step - loss: 0.4257 - accuracy: 0.8286 - val_loss: 0.2451 - val_accuracy: 0.9111\n",
      "Epoch 62/200\n",
      "7/7 [==============================] - 0s 8ms/step - loss: 0.4725 - accuracy: 0.8095 - val_loss: 0.2386 - val_accuracy: 0.9111\n",
      "Epoch 63/200\n",
      "7/7 [==============================] - 0s 7ms/step - loss: 0.4057 - accuracy: 0.8667 - val_loss: 0.2371 - val_accuracy: 0.9111\n",
      "Epoch 64/200\n",
      "7/7 [==============================] - 0s 9ms/step - loss: 0.3816 - accuracy: 0.8762 - val_loss: 0.2282 - val_accuracy: 0.9111\n",
      "Epoch 65/200\n",
      "7/7 [==============================] - 0s 6ms/step - loss: 0.4904 - accuracy: 0.8571 - val_loss: 0.2287 - val_accuracy: 0.9111\n",
      "Epoch 66/200\n",
      "7/7 [==============================] - 0s 7ms/step - loss: 0.2967 - accuracy: 0.8952 - val_loss: 0.2234 - val_accuracy: 0.9111\n",
      "Epoch 67/200\n",
      "7/7 [==============================] - 0s 7ms/step - loss: 0.4518 - accuracy: 0.8381 - val_loss: 0.2141 - val_accuracy: 0.9111\n",
      "Epoch 68/200\n",
      "7/7 [==============================] - 0s 7ms/step - loss: 0.4936 - accuracy: 0.8095 - val_loss: 0.2096 - val_accuracy: 0.9333\n",
      "Epoch 69/200\n",
      "7/7 [==============================] - 0s 6ms/step - loss: 0.4149 - accuracy: 0.8571 - val_loss: 0.2096 - val_accuracy: 0.9556\n",
      "Epoch 70/200\n",
      "7/7 [==============================] - 0s 6ms/step - loss: 0.4866 - accuracy: 0.8286 - val_loss: 0.2131 - val_accuracy: 0.9111\n",
      "Epoch 71/200\n",
      "7/7 [==============================] - 0s 7ms/step - loss: 0.4722 - accuracy: 0.8381 - val_loss: 0.2068 - val_accuracy: 0.9333\n",
      "Epoch 72/200\n",
      "7/7 [==============================] - 0s 8ms/step - loss: 0.3797 - accuracy: 0.8571 - val_loss: 0.2038 - val_accuracy: 0.9333\n",
      "Epoch 73/200\n",
      "7/7 [==============================] - 0s 7ms/step - loss: 0.4227 - accuracy: 0.8476 - val_loss: 0.1965 - val_accuracy: 0.9778\n",
      "Epoch 74/200\n",
      "7/7 [==============================] - 0s 7ms/step - loss: 0.4056 - accuracy: 0.8381 - val_loss: 0.1955 - val_accuracy: 0.9778\n",
      "Epoch 75/200\n",
      "7/7 [==============================] - 0s 8ms/step - loss: 0.4474 - accuracy: 0.8667 - val_loss: 0.1994 - val_accuracy: 0.9111\n",
      "Epoch 76/200\n",
      "7/7 [==============================] - 0s 7ms/step - loss: 0.4624 - accuracy: 0.8381 - val_loss: 0.2002 - val_accuracy: 0.9111\n",
      "Epoch 77/200\n",
      "7/7 [==============================] - 0s 8ms/step - loss: 0.3729 - accuracy: 0.8667 - val_loss: 0.1933 - val_accuracy: 0.9111\n",
      "Epoch 78/200\n",
      "7/7 [==============================] - 0s 8ms/step - loss: 0.3623 - accuracy: 0.8762 - val_loss: 0.1970 - val_accuracy: 0.9111\n",
      "Epoch 79/200\n",
      "7/7 [==============================] - 0s 8ms/step - loss: 0.3992 - accuracy: 0.8667 - val_loss: 0.1953 - val_accuracy: 0.9111\n",
      "Epoch 80/200\n",
      "7/7 [==============================] - 0s 8ms/step - loss: 0.4765 - accuracy: 0.7905 - val_loss: 0.2005 - val_accuracy: 0.9111\n",
      "Epoch 81/200\n",
      "7/7 [==============================] - 0s 9ms/step - loss: 0.3591 - accuracy: 0.8952 - val_loss: 0.1995 - val_accuracy: 0.9111\n",
      "Epoch 82/200\n",
      "7/7 [==============================] - 0s 9ms/step - loss: 0.3794 - accuracy: 0.8571 - val_loss: 0.1978 - val_accuracy: 0.9111\n",
      "Epoch 83/200\n",
      "7/7 [==============================] - 0s 9ms/step - loss: 0.4061 - accuracy: 0.8857 - val_loss: 0.1959 - val_accuracy: 0.9111\n",
      "Epoch 84/200\n",
      "7/7 [==============================] - 0s 10ms/step - loss: 0.3650 - accuracy: 0.8667 - val_loss: 0.2041 - val_accuracy: 0.9111\n",
      "Epoch 85/200\n",
      "7/7 [==============================] - 0s 11ms/step - loss: 0.4154 - accuracy: 0.8667 - val_loss: 0.1973 - val_accuracy: 0.9111\n",
      "Epoch 86/200\n",
      "7/7 [==============================] - 0s 9ms/step - loss: 0.3600 - accuracy: 0.8952 - val_loss: 0.1849 - val_accuracy: 0.9333\n",
      "Epoch 87/200\n",
      "7/7 [==============================] - 0s 7ms/step - loss: 0.4536 - accuracy: 0.8190 - val_loss: 0.1818 - val_accuracy: 0.9333\n",
      "Epoch 88/200\n",
      "7/7 [==============================] - 0s 7ms/step - loss: 0.2992 - accuracy: 0.9238 - val_loss: 0.1822 - val_accuracy: 0.9111\n",
      "Epoch 89/200\n",
      "7/7 [==============================] - 0s 8ms/step - loss: 0.3484 - accuracy: 0.8762 - val_loss: 0.1779 - val_accuracy: 0.9333\n",
      "Epoch 90/200\n",
      "7/7 [==============================] - 0s 7ms/step - loss: 0.3277 - accuracy: 0.9048 - val_loss: 0.1800 - val_accuracy: 0.9333\n",
      "Epoch 91/200\n",
      "7/7 [==============================] - 0s 7ms/step - loss: 0.3151 - accuracy: 0.9143 - val_loss: 0.1784 - val_accuracy: 0.9333\n",
      "Epoch 92/200\n",
      "7/7 [==============================] - 0s 7ms/step - loss: 0.4635 - accuracy: 0.8000 - val_loss: 0.1750 - val_accuracy: 0.9556\n",
      "Epoch 93/200\n",
      "7/7 [==============================] - 0s 9ms/step - loss: 0.3515 - accuracy: 0.8857 - val_loss: 0.1710 - val_accuracy: 0.9556\n",
      "Epoch 94/200\n",
      "7/7 [==============================] - 0s 9ms/step - loss: 0.3350 - accuracy: 0.9333 - val_loss: 0.1703 - val_accuracy: 0.9556\n",
      "Epoch 95/200\n",
      "7/7 [==============================] - 0s 9ms/step - loss: 0.4197 - accuracy: 0.8762 - val_loss: 0.1711 - val_accuracy: 0.9333\n",
      "Epoch 96/200\n",
      "7/7 [==============================] - 0s 8ms/step - loss: 0.3833 - accuracy: 0.8667 - val_loss: 0.1605 - val_accuracy: 0.9556\n",
      "Epoch 97/200\n",
      "7/7 [==============================] - 0s 8ms/step - loss: 0.3632 - accuracy: 0.8571 - val_loss: 0.1576 - val_accuracy: 0.9556\n",
      "Epoch 98/200\n",
      "7/7 [==============================] - 0s 7ms/step - loss: 0.3942 - accuracy: 0.8286 - val_loss: 0.1603 - val_accuracy: 0.9556\n",
      "Epoch 99/200\n",
      "7/7 [==============================] - 0s 6ms/step - loss: 0.3328 - accuracy: 0.8857 - val_loss: 0.1670 - val_accuracy: 0.9333\n",
      "Epoch 100/200\n",
      "7/7 [==============================] - 0s 6ms/step - loss: 0.4288 - accuracy: 0.8381 - val_loss: 0.1678 - val_accuracy: 0.9556\n",
      "Epoch 101/200\n",
      "7/7 [==============================] - 0s 6ms/step - loss: 0.4376 - accuracy: 0.8571 - val_loss: 0.1618 - val_accuracy: 0.9556\n",
      "Epoch 102/200\n",
      "7/7 [==============================] - 0s 6ms/step - loss: 0.3787 - accuracy: 0.8095 - val_loss: 0.1530 - val_accuracy: 0.9556\n",
      "Epoch 103/200\n",
      "7/7 [==============================] - 0s 7ms/step - loss: 0.3224 - accuracy: 0.8952 - val_loss: 0.1642 - val_accuracy: 0.9556\n",
      "Epoch 104/200\n",
      "7/7 [==============================] - 0s 9ms/step - loss: 0.2978 - accuracy: 0.9238 - val_loss: 0.1674 - val_accuracy: 0.9333\n",
      "Epoch 105/200\n",
      "7/7 [==============================] - 0s 8ms/step - loss: 0.3125 - accuracy: 0.9143 - val_loss: 0.1635 - val_accuracy: 0.9556\n",
      "Epoch 106/200\n",
      "7/7 [==============================] - 0s 8ms/step - loss: 0.5082 - accuracy: 0.8286 - val_loss: 0.1667 - val_accuracy: 0.9333\n",
      "Epoch 107/200\n",
      "7/7 [==============================] - 0s 7ms/step - loss: 0.2971 - accuracy: 0.8857 - val_loss: 0.1663 - val_accuracy: 0.9333\n",
      "Epoch 108/200\n",
      "7/7 [==============================] - 0s 7ms/step - loss: 0.4414 - accuracy: 0.8476 - val_loss: 0.1604 - val_accuracy: 0.9333\n",
      "Epoch 109/200\n",
      "7/7 [==============================] - 0s 7ms/step - loss: 0.3399 - accuracy: 0.8952 - val_loss: 0.1576 - val_accuracy: 0.9333\n",
      "Epoch 110/200\n",
      "7/7 [==============================] - 0s 8ms/step - loss: 0.3417 - accuracy: 0.8857 - val_loss: 0.1826 - val_accuracy: 0.9111\n",
      "Epoch 111/200\n",
      "7/7 [==============================] - 0s 8ms/step - loss: 0.3463 - accuracy: 0.8762 - val_loss: 0.1917 - val_accuracy: 0.9111\n",
      "Epoch 112/200\n",
      "7/7 [==============================] - 0s 7ms/step - loss: 0.3783 - accuracy: 0.8667 - val_loss: 0.2037 - val_accuracy: 0.9111\n",
      "Epoch 113/200\n",
      "7/7 [==============================] - 0s 8ms/step - loss: 0.2701 - accuracy: 0.9143 - val_loss: 0.1944 - val_accuracy: 0.9111\n",
      "Epoch 114/200\n",
      "7/7 [==============================] - 0s 12ms/step - loss: 0.3801 - accuracy: 0.9238 - val_loss: 0.1805 - val_accuracy: 0.9111\n",
      "Epoch 115/200\n",
      "7/7 [==============================] - 0s 12ms/step - loss: 0.4335 - accuracy: 0.8381 - val_loss: 0.1843 - val_accuracy: 0.9111\n",
      "Epoch 116/200\n",
      "7/7 [==============================] - 0s 11ms/step - loss: 0.3368 - accuracy: 0.8381 - val_loss: 0.1764 - val_accuracy: 0.9333\n"
     ]
    }
   ],
   "source": [
    "nn_model = Sequential([Dense(16, activation='relu', input_shape=[X.shape[1]]),\n",
    "                     BatchNormalization(),\n",
    "                     Dropout(.3),\n",
    "                     Dense(4, activation='relu'),\n",
    "                     BatchNormalization(),\n",
    "                     Dropout(.3),\n",
    "                     Dense(3, activation='softmax')])\n",
    "\n",
    "#These parameters will be used since we are dealing with multi-class classification\n",
    "nn_model.compile(optimizer='sgd', loss='sparse_categorical_crossentropy', metrics=['accuracy'])\n",
    "\n",
    "#This will stop running the model if the accuracy hasn't improved by 0.01 in the past 20 seconds\n",
    "early_stopping = EarlyStopping(min_delta=1e-2, patience=20, restore_best_weights=True)\n",
    "\n",
    "#This simply displays the values in each epoch\n",
    "fit = nn_model.fit(X_train, y_train, validation_data=(X_test,y_test), \n",
    "                   batch_size=16, epochs=200, callbacks=[early_stopping], verbose=1)"
   ]
  },
  {
   "cell_type": "code",
   "execution_count": 1342,
   "metadata": {},
   "outputs": [
    {
     "data": {
      "image/png": "[encoded data removed]",
      "text/plain": [
       "<Figure size 432x288 with 1 Axes>"
      ]
     },
     "metadata": {},
     "output_type": "display_data"
    }
   ],
   "source": [
    "losses = pd.DataFrame(fit.history)\n",
    "\n",
    "sns.lineplot(data=losses.loc[:,['accuracy','val_accuracy']]);\n",
    "plt.title('Accuracy')\n",
    "plt.xlabel('Epoch')\n",
    "plt.ylabel('Score');"
   ]
  },
  {
   "cell_type": "code",
   "execution_count": 1343,
   "metadata": {
    "scrolled": true
   },
   "outputs": [
    {
     "data": {
      "image/png": "[encoded data removed]",
      "text/plain": [
       "<Figure size 432x288 with 1 Axes>"
      ]
     },
     "metadata": {},
     "output_type": "display_data"
    }
   ],
   "source": [
    "sns.lineplot(data=losses.loc[:,::2]);\n",
    "plt.title('Cross-Entropy')\n",
    "plt.xlabel('Epoch')\n",
    "plt.ylabel('Loss');"
   ]
  },
  {
   "cell_type": "code",
   "execution_count": 1344,
   "metadata": {
    "scrolled": true
   },
   "outputs": [
    {
     "name": "stdout",
     "output_type": "stream",
     "text": [
      "Maximum Accuracy Score: 97.78%\n",
      "Minimum Validation Loss: 0.15\n"
     ]
    }
   ],
   "source": [
    "test_acc = losses.val_accuracy.max()\n",
    "max_val_loss = losses.val_loss.min()\n",
    "\n",
    "print('Maximum Accuracy Score: {:.2f}%'.format(test_acc*100))\n",
    "print('Minimum Validation Loss: {:.2f}'.format(max_val_loss))\n",
    "\n",
    "classification_scores['Neural Networks'] = round(test_acc,2)"
   ]
  },
  {
   "cell_type": "markdown",
   "metadata": {},
   "source": [
    "Our accuracy score for Neural Networks is 97.78%. This is the fourth classification model with this score.\n",
    "\n",
    "Now that we have finished classifying our data, let's chart the scores together."
   ]
  },
  {
   "cell_type": "code",
   "execution_count": 1345,
   "metadata": {},
   "outputs": [
    {
     "data": {
      "text/html": [
       "<div>\n",
       "<style scoped>\n",
       "    .dataframe tbody tr th:only-of-type {\n",
       "        vertical-align: middle;\n",
       "    }\n",
       "\n",
       "    .dataframe tbody tr th {\n",
       "        vertical-align: top;\n",
       "    }\n",
       "\n",
       "    .dataframe thead th {\n",
       "        text-align: right;\n",
       "    }\n",
       "</style>\n",
       "<table border=\"1\" class=\"dataframe\">\n",
       "  <thead>\n",
       "    <tr style=\"text-align: right;\">\n",
       "      <th></th>\n",
       "      <th>Score</th>\n",
       "    </tr>\n",
       "  </thead>\n",
       "  <tbody>\n",
       "    <tr>\n",
       "      <th>Random Forest</th>\n",
       "      <td>0.98</td>\n",
       "    </tr>\n",
       "    <tr>\n",
       "      <th>XGB</th>\n",
       "      <td>0.98</td>\n",
       "    </tr>\n",
       "    <tr>\n",
       "      <th>KNN</th>\n",
       "      <td>0.98</td>\n",
       "    </tr>\n",
       "    <tr>\n",
       "      <th>Neural Networks</th>\n",
       "      <td>0.98</td>\n",
       "    </tr>\n",
       "    <tr>\n",
       "      <th>SVM</th>\n",
       "      <td>0.96</td>\n",
       "    </tr>\n",
       "    <tr>\n",
       "      <th>Logistic</th>\n",
       "      <td>0.93</td>\n",
       "    </tr>\n",
       "  </tbody>\n",
       "</table>\n",
       "</div>"
      ],
      "text/plain": [
       "                 Score\n",
       "Random Forest     0.98\n",
       "XGB               0.98\n",
       "KNN               0.98\n",
       "Neural Networks   0.98\n",
       "SVM               0.96\n",
       "Logistic          0.93"
      ]
     },
     "execution_count": 1345,
     "metadata": {},
     "output_type": "execute_result"
    }
   ],
   "source": [
    "scores = pd.DataFrame({'Score': classification_scores.values()}, index=classification_scores.keys())\n",
    "scores.sort_values('Score', ascending=False)"
   ]
  },
  {
   "cell_type": "code",
   "execution_count": 1346,
   "metadata": {},
   "outputs": [
    {
     "name": "stdout",
     "output_type": "stream",
     "text": [
      "Best classification method(s):\n",
      "Random Forest\n",
      "XGB\n",
      "KNN\n",
      "Neural Networks\n"
     ]
    }
   ],
   "source": [
    "print('Best classification method(s):')\n",
    "for s in list(scores.index[scores.Score == scores.Score.max()]):\n",
    "    print(s)"
   ]
  },
  {
   "cell_type": "markdown",
   "metadata": {},
   "source": [
    "Random Forest, XGBClassifier, KNN, and Neural Networks are the best classification methods for the Iris dataset. However, this could vary from time to time."
   ]
  }
 ],
 "metadata": {
  "kernelspec": {
   "display_name": "Python 3",
   "language": "python",
   "name": "python3"
  },
  "language_info": {
   "codemirror_mode": {
    "name": "ipython",
    "version": 3
   },
   "file_extension": ".py",
   "mimetype": "text/x-python",
   "name": "python",
   "nbconvert_exporter": "python",
   "pygments_lexer": "ipython3",
   "version": "3.8.5"
  }
 },
 "nbformat": 4,
 "nbformat_minor": 4
}
